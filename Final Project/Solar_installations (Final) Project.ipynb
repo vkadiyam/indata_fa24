{
 "cells": [
  {
   "cell_type": "code",
   "execution_count": null,
   "metadata": {},
   "outputs": [],
   "source": [
    "# Loading libraries\n",
    "import pandas as pd"
   ]
  },
  {
   "cell_type": "code",
   "execution_count": null,
   "metadata": {},
   "outputs": [],
   "source": [
    "# Loading Data set \n",
    "Solar_Installation ='Solar_Footprints_V2_5065925295652909767.csv'\n",
    "df = pd.read_csv(Solar_Installation)"
   ]
  },
  {
   "cell_type": "code",
   "execution_count": null,
   "metadata": {},
   "outputs": [
    {
     "data": {
      "text/html": [
       "<div>\n",
       "<style scoped>\n",
       "    .dataframe tbody tr th:only-of-type {\n",
       "        vertical-align: middle;\n",
       "    }\n",
       "\n",
       "    .dataframe tbody tr th {\n",
       "        vertical-align: top;\n",
       "    }\n",
       "\n",
       "    .dataframe thead th {\n",
       "        text-align: right;\n",
       "    }\n",
       "</style>\n",
       "<table border=\"1\" class=\"dataframe\">\n",
       "  <thead>\n",
       "    <tr style=\"text-align: right;\">\n",
       "      <th></th>\n",
       "      <th>OBJECTID</th>\n",
       "      <th>County</th>\n",
       "      <th>Acres</th>\n",
       "      <th>Install Type</th>\n",
       "      <th>Urban or Rural</th>\n",
       "      <th>Combined Class</th>\n",
       "      <th>Distance to Substation (Miles) GTET 100 Max Voltage</th>\n",
       "      <th>Percentile (GTET 100 Max Voltage)</th>\n",
       "      <th>Substation Name GTET 100 Max Voltage</th>\n",
       "      <th>HIFLD ID (GTET 100 Max Voltage)</th>\n",
       "      <th>...</th>\n",
       "      <th>Percentile (GTET 200 Max Voltage)</th>\n",
       "      <th>Substation Name GTET 200 Max Voltage</th>\n",
       "      <th>HIFLD ID (GTET 200 Max Voltage)</th>\n",
       "      <th>Distance to Substation (Miles) CAISO</th>\n",
       "      <th>Percentile (CAISO)</th>\n",
       "      <th>Substation CASIO Name</th>\n",
       "      <th>HIFLD ID (CAISO)</th>\n",
       "      <th>Solar Technoeconomic Intersection</th>\n",
       "      <th>Shape__Area</th>\n",
       "      <th>Shape__Length</th>\n",
       "    </tr>\n",
       "  </thead>\n",
       "  <tbody>\n",
       "    <tr>\n",
       "      <th>0</th>\n",
       "      <td>1</td>\n",
       "      <td>Alameda County</td>\n",
       "      <td>1.672639</td>\n",
       "      <td>Rooftop</td>\n",
       "      <td>Urban</td>\n",
       "      <td>Rooftop - Urban</td>\n",
       "      <td>0.162732</td>\n",
       "      <td>0 to 25th</td>\n",
       "      <td>Dixon Landing</td>\n",
       "      <td>309200.0</td>\n",
       "      <td>...</td>\n",
       "      <td>0 to 25th</td>\n",
       "      <td>Los Esteros</td>\n",
       "      <td>310258.0</td>\n",
       "      <td>2.272283</td>\n",
       "      <td>0 to 25th</td>\n",
       "      <td>Los Esteros</td>\n",
       "      <td>310258.0</td>\n",
       "      <td>Within</td>\n",
       "      <td>6768.954679</td>\n",
       "      <td>365.801336</td>\n",
       "    </tr>\n",
       "    <tr>\n",
       "      <th>1</th>\n",
       "      <td>2</td>\n",
       "      <td>Alameda County</td>\n",
       "      <td>1.897078</td>\n",
       "      <td>Rooftop</td>\n",
       "      <td>Urban</td>\n",
       "      <td>Rooftop - Urban</td>\n",
       "      <td>0.226728</td>\n",
       "      <td>0 to 25th</td>\n",
       "      <td>Dixon Landing</td>\n",
       "      <td>309200.0</td>\n",
       "      <td>...</td>\n",
       "      <td>0 to 25th</td>\n",
       "      <td>Los Esteros</td>\n",
       "      <td>310258.0</td>\n",
       "      <td>2.392816</td>\n",
       "      <td>0 to 25th</td>\n",
       "      <td>Los Esteros</td>\n",
       "      <td>310258.0</td>\n",
       "      <td>Within</td>\n",
       "      <td>7677.228982</td>\n",
       "      <td>366.909878</td>\n",
       "    </tr>\n",
       "    <tr>\n",
       "      <th>2</th>\n",
       "      <td>3</td>\n",
       "      <td>Alameda County</td>\n",
       "      <td>1.275783</td>\n",
       "      <td>Rooftop</td>\n",
       "      <td>Urban</td>\n",
       "      <td>Rooftop - Urban</td>\n",
       "      <td>0.426104</td>\n",
       "      <td>0 to 25th</td>\n",
       "      <td>Dixon Landing</td>\n",
       "      <td>309200.0</td>\n",
       "      <td>...</td>\n",
       "      <td>0 to 25th</td>\n",
       "      <td>Los Esteros</td>\n",
       "      <td>310258.0</td>\n",
       "      <td>2.537298</td>\n",
       "      <td>0 to 25th</td>\n",
       "      <td>Los Esteros</td>\n",
       "      <td>310258.0</td>\n",
       "      <td>Within</td>\n",
       "      <td>5162.935990</td>\n",
       "      <td>290.576263</td>\n",
       "    </tr>\n",
       "    <tr>\n",
       "      <th>3</th>\n",
       "      <td>4</td>\n",
       "      <td>Alameda County</td>\n",
       "      <td>1.424286</td>\n",
       "      <td>Rooftop</td>\n",
       "      <td>Urban</td>\n",
       "      <td>Rooftop - Urban</td>\n",
       "      <td>0.491306</td>\n",
       "      <td>0 to 25th</td>\n",
       "      <td>Dixon Landing</td>\n",
       "      <td>309200.0</td>\n",
       "      <td>...</td>\n",
       "      <td>0 to 25th</td>\n",
       "      <td>Los Esteros</td>\n",
       "      <td>310258.0</td>\n",
       "      <td>2.626699</td>\n",
       "      <td>0 to 25th</td>\n",
       "      <td>Los Esteros</td>\n",
       "      <td>310258.0</td>\n",
       "      <td>Within</td>\n",
       "      <td>5763.905754</td>\n",
       "      <td>344.705846</td>\n",
       "    </tr>\n",
       "    <tr>\n",
       "      <th>4</th>\n",
       "      <td>5</td>\n",
       "      <td>Alameda County</td>\n",
       "      <td>0.984429</td>\n",
       "      <td>Rooftop</td>\n",
       "      <td>Urban</td>\n",
       "      <td>Rooftop - Urban</td>\n",
       "      <td>0.795822</td>\n",
       "      <td>0 to 25th</td>\n",
       "      <td>Dixon Landing</td>\n",
       "      <td>309200.0</td>\n",
       "      <td>...</td>\n",
       "      <td>0 to 25th</td>\n",
       "      <td>Los Esteros</td>\n",
       "      <td>310258.0</td>\n",
       "      <td>2.728629</td>\n",
       "      <td>25th to 50th</td>\n",
       "      <td>Los Esteros</td>\n",
       "      <td>310258.0</td>\n",
       "      <td>Within</td>\n",
       "      <td>3983.859693</td>\n",
       "      <td>283.968426</td>\n",
       "    </tr>\n",
       "  </tbody>\n",
       "</table>\n",
       "<p>5 rows × 21 columns</p>\n",
       "</div>"
      ],
      "text/plain": [
       "   OBJECTID          County     Acres Install Type Urban or Rural  \\\n",
       "0         1  Alameda County  1.672639      Rooftop          Urban   \n",
       "1         2  Alameda County  1.897078      Rooftop          Urban   \n",
       "2         3  Alameda County  1.275783      Rooftop          Urban   \n",
       "3         4  Alameda County  1.424286      Rooftop          Urban   \n",
       "4         5  Alameda County  0.984429      Rooftop          Urban   \n",
       "\n",
       "    Combined Class  Distance to Substation (Miles) GTET 100 Max Voltage  \\\n",
       "0  Rooftop - Urban                                           0.162732     \n",
       "1  Rooftop - Urban                                           0.226728     \n",
       "2  Rooftop - Urban                                           0.426104     \n",
       "3  Rooftop - Urban                                           0.491306     \n",
       "4  Rooftop - Urban                                           0.795822     \n",
       "\n",
       "  Percentile (GTET 100 Max Voltage) Substation Name GTET 100 Max Voltage  \\\n",
       "0                         0 to 25th                        Dixon Landing   \n",
       "1                         0 to 25th                        Dixon Landing   \n",
       "2                         0 to 25th                        Dixon Landing   \n",
       "3                         0 to 25th                        Dixon Landing   \n",
       "4                         0 to 25th                        Dixon Landing   \n",
       "\n",
       "   HIFLD ID (GTET 100 Max Voltage)  ...  Percentile (GTET 200 Max Voltage)  \\\n",
       "0                         309200.0  ...                          0 to 25th   \n",
       "1                         309200.0  ...                          0 to 25th   \n",
       "2                         309200.0  ...                          0 to 25th   \n",
       "3                         309200.0  ...                          0 to 25th   \n",
       "4                         309200.0  ...                          0 to 25th   \n",
       "\n",
       "  Substation Name GTET 200 Max Voltage HIFLD ID (GTET 200 Max Voltage)  \\\n",
       "0                          Los Esteros                        310258.0   \n",
       "1                          Los Esteros                        310258.0   \n",
       "2                          Los Esteros                        310258.0   \n",
       "3                          Los Esteros                        310258.0   \n",
       "4                          Los Esteros                        310258.0   \n",
       "\n",
       "   Distance to Substation (Miles) CAISO  Percentile (CAISO)  \\\n",
       "0                              2.272283           0 to 25th   \n",
       "1                              2.392816           0 to 25th   \n",
       "2                              2.537298           0 to 25th   \n",
       "3                              2.626699           0 to 25th   \n",
       "4                              2.728629        25th to 50th   \n",
       "\n",
       "  Substation CASIO Name HIFLD ID (CAISO)  Solar Technoeconomic Intersection  \\\n",
       "0           Los Esteros         310258.0                             Within   \n",
       "1           Los Esteros         310258.0                             Within   \n",
       "2           Los Esteros         310258.0                             Within   \n",
       "3           Los Esteros         310258.0                             Within   \n",
       "4           Los Esteros         310258.0                             Within   \n",
       "\n",
       "   Shape__Area  Shape__Length  \n",
       "0  6768.954679     365.801336  \n",
       "1  7677.228982     366.909878  \n",
       "2  5162.935990     290.576263  \n",
       "3  5763.905754     344.705846  \n",
       "4  3983.859693     283.968426  \n",
       "\n",
       "[5 rows x 21 columns]"
      ]
     },
     "execution_count": 21,
     "metadata": {},
     "output_type": "execute_result"
    }
   ],
   "source": [
    "df.head()"
   ]
  },
  {
   "cell_type": "code",
   "execution_count": null,
   "metadata": {},
   "outputs": [
    {
     "name": "stdout",
     "output_type": "stream",
     "text": [
      "<class 'pandas.core.frame.DataFrame'>\n",
      "RangeIndex: 5397 entries, 0 to 5396\n",
      "Data columns (total 21 columns):\n",
      " #   Column                                               Non-Null Count  Dtype  \n",
      "---  ------                                               --------------  -----  \n",
      " 0   OBJECTID                                             5397 non-null   int64  \n",
      " 1   County                                               5397 non-null   object \n",
      " 2   Acres                                                5397 non-null   float64\n",
      " 3   Install Type                                         5397 non-null   object \n",
      " 4   Urban or Rural                                       5397 non-null   object \n",
      " 5   Combined Class                                       5397 non-null   object \n",
      " 6   Distance to Substation (Miles) GTET 100 Max Voltage  5397 non-null   float64\n",
      " 7   Percentile (GTET 100 Max Voltage)                    5397 non-null   object \n",
      " 8   Substation Name GTET 100 Max Voltage                 5397 non-null   object \n",
      " 9   HIFLD ID (GTET 100 Max Voltage)                      5255 non-null   float64\n",
      " 10  Distance to Substation (Miles) GTET 200 Max Voltage  5397 non-null   float64\n",
      " 11  Percentile (GTET 200 Max Voltage)                    5397 non-null   object \n",
      " 12  Substation Name GTET 200 Max Voltage                 5397 non-null   object \n",
      " 13  HIFLD ID (GTET 200 Max Voltage)                      5165 non-null   float64\n",
      " 14  Distance to Substation (Miles) CAISO                 5397 non-null   float64\n",
      " 15  Percentile (CAISO)                                   5397 non-null   object \n",
      " 16  Substation CASIO Name                                5387 non-null   object \n",
      " 17  HIFLD ID (CAISO)                                     5180 non-null   float64\n",
      " 18  Solar Technoeconomic Intersection                    5397 non-null   object \n",
      " 19  Shape__Area                                          5397 non-null   float64\n",
      " 20  Shape__Length                                        5397 non-null   float64\n",
      "dtypes: float64(9), int64(1), object(11)\n",
      "memory usage: 885.6+ KB\n"
     ]
    },
    {
     "data": {
      "text/plain": [
       "(5397, 21)"
      ]
     },
     "execution_count": 22,
     "metadata": {},
     "output_type": "execute_result"
    }
   ],
   "source": [
    "# Attempting to understand the structure of the data \n",
    "df.info()\n",
    "df.shape\n"
   ]
  },
  {
   "cell_type": "markdown",
   "metadata": {},
   "source": [
    "### Streamline the `df` DataFrame by removing non-essential columns to focus on relevant data for solar analysis.\n",
    "\n",
    "### Approach and Rationale\n",
    "\n",
    "We create a list of columns to drop, each with a specific reason:\n",
    "\n",
    "- **`OBJECTID`**: Unique identifier with no analytical value.\n",
    "- **`Combined Class`**: Redundant data already covered by `Install Type` and `Urban or Rural`.\n",
    "- **`HIFLD ID (GTET 100 Max Voltage)`, `HIFLD ID (GTET 200 Max Voltage)`, `HIFLD ID (CAISO)`**: Substation identifiers not required for this analysis.\n",
    "\n",
    "Dropping these columns improves focus and processing speed, keeping only meaningful data. Using `errors='ignore'` ensures smooth execution even if any column is missing."
   ]
  },
  {
   "cell_type": "code",
   "execution_count": null,
   "metadata": {},
   "outputs": [],
   "source": [
    "# Dropping non-essential columns as identified, with a brief reason for each\n",
    "\n",
    "# List of columns to drop\n",
    "columns_to_drop = [\n",
    "    'OBJECTID',              # Unique identifier with no analytical value\n",
    "    'Combined Class',        # Redundant information already available in 'Install Type' and 'Urban or Rural'\n",
    "    'HIFLD ID (GTET 100 Max Voltage)',     # Substation identifier, not needed for analysis\n",
    "    'HIFLD ID (GTET 200 Max Voltage)',     # Substation identifier, not needed for analysis\n",
    "    'HIFLD ID (CAISO)'        # Substation identifier, not needed for analysis\n",
    "   \n",
    "\n",
    "\n",
    "]\n",
    "\n",
    "# Dropping columns\n",
    "solar_data_cleaned = df.drop(columns=columns_to_drop,errors='ignore')\n"
   ]
  },
  {
   "cell_type": "markdown",
   "metadata": {},
   "source": [
    "\n",
    "\n",
    "The code `solar_data_cleaned.isnull().sum()` calculates the total number of missing values in each column of the `solar_data_cleaned` DataFrame. This summary helps identify any columns with missing data that may require further attention, such as filling, dropping, or other data cleaning methods, to ensure data completeness and reliability for analysis."
   ]
  },
  {
   "cell_type": "code",
   "execution_count": null,
   "metadata": {},
   "outputs": [
    {
     "data": {
      "text/plain": [
       "County                                                  0\n",
       "Acres                                                   0\n",
       "Install Type                                            0\n",
       "Urban or Rural                                          0\n",
       "Distance to Substation (Miles) GTET 100 Max Voltage     0\n",
       "Percentile (GTET 100 Max Voltage)                       0\n",
       "Substation Name GTET 100 Max Voltage                    0\n",
       "Distance to Substation (Miles) GTET 200 Max Voltage     0\n",
       "Percentile (GTET 200 Max Voltage)                       0\n",
       "Substation Name GTET 200 Max Voltage                    0\n",
       "Distance to Substation (Miles) CAISO                    0\n",
       "Percentile (CAISO)                                      0\n",
       "Substation CASIO Name                                  10\n",
       "Solar Technoeconomic Intersection                       0\n",
       "Shape__Area                                             0\n",
       "Shape__Length                                           0\n",
       "dtype: int64"
      ]
     },
     "execution_count": 24,
     "metadata": {},
     "output_type": "execute_result"
    }
   ],
   "source": [
    "# Finding if there arae any missing values that needs to be given attention to \n",
    "solar_data_cleaned.isnull().sum()"
   ]
  },
  {
   "cell_type": "markdown",
   "metadata": {},
   "source": [
    "### Filling Missing Values\n",
    "\n",
    "The code fills missing values in the `Substation CASIO Name` column of the `solar_data_cleaned` DataFrame with the placeholder `\"Unknown\"`. This approach retains records with missing substation names while clearly indicating cases where the information is unavailable, preserving data integrity and completeness for further analysis."
   ]
  },
  {
   "cell_type": "code",
   "execution_count": null,
   "metadata": {},
   "outputs": [
    {
     "data": {
      "text/plain": [
       "County                                                 0\n",
       "Acres                                                  0\n",
       "Install Type                                           0\n",
       "Urban or Rural                                         0\n",
       "Distance to Substation (Miles) GTET 100 Max Voltage    0\n",
       "Percentile (GTET 100 Max Voltage)                      0\n",
       "Substation Name GTET 100 Max Voltage                   0\n",
       "Distance to Substation (Miles) GTET 200 Max Voltage    0\n",
       "Percentile (GTET 200 Max Voltage)                      0\n",
       "Substation Name GTET 200 Max Voltage                   0\n",
       "Distance to Substation (Miles) CAISO                   0\n",
       "Percentile (CAISO)                                     0\n",
       "Substation CASIO Name                                  0\n",
       "Solar Technoeconomic Intersection                      0\n",
       "Shape__Area                                            0\n",
       "Shape__Length                                          0\n",
       "dtype: int64"
      ]
     },
     "execution_count": 25,
     "metadata": {},
     "output_type": "execute_result"
    }
   ],
   "source": [
    "# Filling missing values in 'Substation_CAISO' with the placeholder \"Unknown\"\n",
    "solar_data_cleaned['Substation CASIO Name'].fillna(\"Unknown\", inplace=True)\n",
    "\n",
    "# Verify that there are no remaining missing values\n",
    "missing_values_after_filling = solar_data_cleaned.isnull().sum()\n",
    "missing_values_after_filling\n"
   ]
  },
  {
   "cell_type": "markdown",
   "metadata": {},
   "source": [
    "### To determine \n",
    "\n",
    "which regions, urban or rural, have larger solar installation footprints by analyzing the total acreage used for solar installations across counties and classifications.\n",
    "\n",
    "1. **Aggregate Data by County and Urban/Rural Classification**:\n",
    "   - Grouping the data by `County` and `Urban or Rural`, then summing the `Acres` column to calculate the total area of solar installations for each combination.This aggregation provides a clear picture of the solar footprint across different regions, allowing for comparison between urban and rural installations within each county.\n",
    "\n",
    "2. **Box Plot Visualization**:\n",
    "   - **What we’re doing**: Using a box plot, we visualize the distribution of `Acres` for each County and Urban/Rural classification.\n",
    "   - **Why this is effective**: The box plot provides a visual summary of the spread and central tendency of solar installation areas, highlighting differences between urban and rural regions. It also reveals any outliers, indicating counties with unusually large or small installations.\n",
    "\n",
    "\n",
    "This method provides both a numerical and visual comparison, making it easy to interpret which regions tend to have larger solar footprints. The aggregation captures the total footprint, while the box plot illustrates distribution trends across counties and classifications, offering a comprehensive view of urban vs. rural installation sizes."
   ]
  },
  {
   "cell_type": "code",
   "execution_count": null,
   "metadata": {},
   "outputs": [],
   "source": [
    "# Aggregate data by County and Urban or Rural, summing the 'Acres' column\n",
    "aggregated_data = solar_data_cleaned.groupby(['County', 'Urban or Rural'])['Acres'].sum().reset_index()"
   ]
  },
  {
   "cell_type": "code",
   "execution_count": null,
   "metadata": {},
   "outputs": [
    {
     "data": {
      "text/html": [
       "<div>\n",
       "<style scoped>\n",
       "    .dataframe tbody tr th:only-of-type {\n",
       "        vertical-align: middle;\n",
       "    }\n",
       "\n",
       "    .dataframe tbody tr th {\n",
       "        vertical-align: top;\n",
       "    }\n",
       "\n",
       "    .dataframe thead th {\n",
       "        text-align: right;\n",
       "    }\n",
       "</style>\n",
       "<table border=\"1\" class=\"dataframe\">\n",
       "  <thead>\n",
       "    <tr style=\"text-align: right;\">\n",
       "      <th></th>\n",
       "      <th>County</th>\n",
       "      <th>Urban or Rural</th>\n",
       "      <th>Acres</th>\n",
       "    </tr>\n",
       "  </thead>\n",
       "  <tbody>\n",
       "    <tr>\n",
       "      <th>0</th>\n",
       "      <td>Alameda County</td>\n",
       "      <td>Rural</td>\n",
       "      <td>1.939749</td>\n",
       "    </tr>\n",
       "    <tr>\n",
       "      <th>1</th>\n",
       "      <td>Alameda County</td>\n",
       "      <td>Urban</td>\n",
       "      <td>405.078807</td>\n",
       "    </tr>\n",
       "    <tr>\n",
       "      <th>2</th>\n",
       "      <td>Amador County</td>\n",
       "      <td>Rural</td>\n",
       "      <td>9.747331</td>\n",
       "    </tr>\n",
       "    <tr>\n",
       "      <th>3</th>\n",
       "      <td>Butte County</td>\n",
       "      <td>Rural</td>\n",
       "      <td>76.677146</td>\n",
       "    </tr>\n",
       "    <tr>\n",
       "      <th>4</th>\n",
       "      <td>Butte County</td>\n",
       "      <td>Urban</td>\n",
       "      <td>52.316805</td>\n",
       "    </tr>\n",
       "    <tr>\n",
       "      <th>...</th>\n",
       "      <td>...</td>\n",
       "      <td>...</td>\n",
       "      <td>...</td>\n",
       "    </tr>\n",
       "    <tr>\n",
       "      <th>86</th>\n",
       "      <td>Ventura County</td>\n",
       "      <td>Urban</td>\n",
       "      <td>207.113638</td>\n",
       "    </tr>\n",
       "    <tr>\n",
       "      <th>87</th>\n",
       "      <td>Yolo County</td>\n",
       "      <td>Rural</td>\n",
       "      <td>109.590984</td>\n",
       "    </tr>\n",
       "    <tr>\n",
       "      <th>88</th>\n",
       "      <td>Yolo County</td>\n",
       "      <td>Urban</td>\n",
       "      <td>107.570763</td>\n",
       "    </tr>\n",
       "    <tr>\n",
       "      <th>89</th>\n",
       "      <td>Yuba County</td>\n",
       "      <td>Rural</td>\n",
       "      <td>17.192576</td>\n",
       "    </tr>\n",
       "    <tr>\n",
       "      <th>90</th>\n",
       "      <td>Yuba County</td>\n",
       "      <td>Urban</td>\n",
       "      <td>25.056157</td>\n",
       "    </tr>\n",
       "  </tbody>\n",
       "</table>\n",
       "<p>91 rows × 3 columns</p>\n",
       "</div>"
      ],
      "text/plain": [
       "            County Urban or Rural       Acres\n",
       "0   Alameda County          Rural    1.939749\n",
       "1   Alameda County          Urban  405.078807\n",
       "2    Amador County          Rural    9.747331\n",
       "3     Butte County          Rural   76.677146\n",
       "4     Butte County          Urban   52.316805\n",
       "..             ...            ...         ...\n",
       "86  Ventura County          Urban  207.113638\n",
       "87     Yolo County          Rural  109.590984\n",
       "88     Yolo County          Urban  107.570763\n",
       "89     Yuba County          Rural   17.192576\n",
       "90     Yuba County          Urban   25.056157\n",
       "\n",
       "[91 rows x 3 columns]"
      ]
     },
     "execution_count": 27,
     "metadata": {},
     "output_type": "execute_result"
    }
   ],
   "source": [
    "aggregated_data"
   ]
  },
  {
   "cell_type": "markdown",
   "metadata": {},
   "source": [
    "To understand which regions—urban or rural—have larger solar installation footprints, we start by grouping the data by county and region type (urban or rural) and summing up the acreage (`Acres`). This allows us to see the total area covered by solar installations in each region type within each county.\n",
    "\n",
    "Using a box plot of the filtered data helps to easily compare the acreage distribution across urban and rural regions within these top counties. This approach effectively reduces noise in the visualization, making it easy to see patterns and differences in solar installation sizes across different types of regions."
   ]
  },
  {
   "cell_type": "code",
   "execution_count": null,
   "metadata": {},
   "outputs": [
    {
     "data": {
      "application/vnd.plotly.v1+json": {
       "config": {
        "plotlyServerURL": "https://plot.ly"
       },
       "data": [
        {
         "hovertemplate": "County: %{x}<br>Urban Acres: %{y:,}<extra></extra>",
         "marker": {
          "color": "lightblue"
         },
         "name": "Urban",
         "text": [
          1813,
          1038,
          137,
          3038,
          377
         ],
         "textposition": "outside",
         "type": "bar",
         "x": [
          "Kern County",
          "Riverside County",
          "Imperial County",
          "San Bernardino County",
          "Kings County"
         ],
         "y": [
          1812.575591864,
          1038.268337717,
          136.66399212899998,
          3037.929542368,
          377.038124822
         ]
        },
        {
         "hovertemplate": "County: %{x}<br>Rural Acres: %{y:,}<extra></extra>",
         "marker": {
          "color": "lightgreen"
         },
         "name": "Rural",
         "text": [
          29307,
          26369,
          16297,
          12977,
          15524
         ],
         "textposition": "outside",
         "type": "bar",
         "x": [
          "Kern County",
          "Riverside County",
          "Imperial County",
          "San Bernardino County",
          "Kings County"
         ],
         "y": [
          29307.436782279,
          26368.965874431,
          16297.130828143,
          12977.491531083,
          15523.580075359001
         ]
        }
       ],
       "layout": {
        "barmode": "group",
        "height": 600,
        "legend": {
         "title": {
          "text": "Urban or Rural"
         }
        },
        "template": {
         "data": {
          "bar": [
           {
            "error_x": {
             "color": "#2a3f5f"
            },
            "error_y": {
             "color": "#2a3f5f"
            },
            "marker": {
             "line": {
              "color": "#E5ECF6",
              "width": 0.5
             },
             "pattern": {
              "fillmode": "overlay",
              "size": 10,
              "solidity": 0.2
             }
            },
            "type": "bar"
           }
          ],
          "barpolar": [
           {
            "marker": {
             "line": {
              "color": "#E5ECF6",
              "width": 0.5
             },
             "pattern": {
              "fillmode": "overlay",
              "size": 10,
              "solidity": 0.2
             }
            },
            "type": "barpolar"
           }
          ],
          "carpet": [
           {
            "aaxis": {
             "endlinecolor": "#2a3f5f",
             "gridcolor": "white",
             "linecolor": "white",
             "minorgridcolor": "white",
             "startlinecolor": "#2a3f5f"
            },
            "baxis": {
             "endlinecolor": "#2a3f5f",
             "gridcolor": "white",
             "linecolor": "white",
             "minorgridcolor": "white",
             "startlinecolor": "#2a3f5f"
            },
            "type": "carpet"
           }
          ],
          "choropleth": [
           {
            "colorbar": {
             "outlinewidth": 0,
             "ticks": ""
            },
            "type": "choropleth"
           }
          ],
          "contour": [
           {
            "colorbar": {
             "outlinewidth": 0,
             "ticks": ""
            },
            "colorscale": [
             [
              0,
              "#0d0887"
             ],
             [
              0.1111111111111111,
              "#46039f"
             ],
             [
              0.2222222222222222,
              "#7201a8"
             ],
             [
              0.3333333333333333,
              "#9c179e"
             ],
             [
              0.4444444444444444,
              "#bd3786"
             ],
             [
              0.5555555555555556,
              "#d8576b"
             ],
             [
              0.6666666666666666,
              "#ed7953"
             ],
             [
              0.7777777777777778,
              "#fb9f3a"
             ],
             [
              0.8888888888888888,
              "#fdca26"
             ],
             [
              1,
              "#f0f921"
             ]
            ],
            "type": "contour"
           }
          ],
          "contourcarpet": [
           {
            "colorbar": {
             "outlinewidth": 0,
             "ticks": ""
            },
            "type": "contourcarpet"
           }
          ],
          "heatmap": [
           {
            "colorbar": {
             "outlinewidth": 0,
             "ticks": ""
            },
            "colorscale": [
             [
              0,
              "#0d0887"
             ],
             [
              0.1111111111111111,
              "#46039f"
             ],
             [
              0.2222222222222222,
              "#7201a8"
             ],
             [
              0.3333333333333333,
              "#9c179e"
             ],
             [
              0.4444444444444444,
              "#bd3786"
             ],
             [
              0.5555555555555556,
              "#d8576b"
             ],
             [
              0.6666666666666666,
              "#ed7953"
             ],
             [
              0.7777777777777778,
              "#fb9f3a"
             ],
             [
              0.8888888888888888,
              "#fdca26"
             ],
             [
              1,
              "#f0f921"
             ]
            ],
            "type": "heatmap"
           }
          ],
          "heatmapgl": [
           {
            "colorbar": {
             "outlinewidth": 0,
             "ticks": ""
            },
            "colorscale": [
             [
              0,
              "#0d0887"
             ],
             [
              0.1111111111111111,
              "#46039f"
             ],
             [
              0.2222222222222222,
              "#7201a8"
             ],
             [
              0.3333333333333333,
              "#9c179e"
             ],
             [
              0.4444444444444444,
              "#bd3786"
             ],
             [
              0.5555555555555556,
              "#d8576b"
             ],
             [
              0.6666666666666666,
              "#ed7953"
             ],
             [
              0.7777777777777778,
              "#fb9f3a"
             ],
             [
              0.8888888888888888,
              "#fdca26"
             ],
             [
              1,
              "#f0f921"
             ]
            ],
            "type": "heatmapgl"
           }
          ],
          "histogram": [
           {
            "marker": {
             "pattern": {
              "fillmode": "overlay",
              "size": 10,
              "solidity": 0.2
             }
            },
            "type": "histogram"
           }
          ],
          "histogram2d": [
           {
            "colorbar": {
             "outlinewidth": 0,
             "ticks": ""
            },
            "colorscale": [
             [
              0,
              "#0d0887"
             ],
             [
              0.1111111111111111,
              "#46039f"
             ],
             [
              0.2222222222222222,
              "#7201a8"
             ],
             [
              0.3333333333333333,
              "#9c179e"
             ],
             [
              0.4444444444444444,
              "#bd3786"
             ],
             [
              0.5555555555555556,
              "#d8576b"
             ],
             [
              0.6666666666666666,
              "#ed7953"
             ],
             [
              0.7777777777777778,
              "#fb9f3a"
             ],
             [
              0.8888888888888888,
              "#fdca26"
             ],
             [
              1,
              "#f0f921"
             ]
            ],
            "type": "histogram2d"
           }
          ],
          "histogram2dcontour": [
           {
            "colorbar": {
             "outlinewidth": 0,
             "ticks": ""
            },
            "colorscale": [
             [
              0,
              "#0d0887"
             ],
             [
              0.1111111111111111,
              "#46039f"
             ],
             [
              0.2222222222222222,
              "#7201a8"
             ],
             [
              0.3333333333333333,
              "#9c179e"
             ],
             [
              0.4444444444444444,
              "#bd3786"
             ],
             [
              0.5555555555555556,
              "#d8576b"
             ],
             [
              0.6666666666666666,
              "#ed7953"
             ],
             [
              0.7777777777777778,
              "#fb9f3a"
             ],
             [
              0.8888888888888888,
              "#fdca26"
             ],
             [
              1,
              "#f0f921"
             ]
            ],
            "type": "histogram2dcontour"
           }
          ],
          "mesh3d": [
           {
            "colorbar": {
             "outlinewidth": 0,
             "ticks": ""
            },
            "type": "mesh3d"
           }
          ],
          "parcoords": [
           {
            "line": {
             "colorbar": {
              "outlinewidth": 0,
              "ticks": ""
             }
            },
            "type": "parcoords"
           }
          ],
          "pie": [
           {
            "automargin": true,
            "type": "pie"
           }
          ],
          "scatter": [
           {
            "fillpattern": {
             "fillmode": "overlay",
             "size": 10,
             "solidity": 0.2
            },
            "type": "scatter"
           }
          ],
          "scatter3d": [
           {
            "line": {
             "colorbar": {
              "outlinewidth": 0,
              "ticks": ""
             }
            },
            "marker": {
             "colorbar": {
              "outlinewidth": 0,
              "ticks": ""
             }
            },
            "type": "scatter3d"
           }
          ],
          "scattercarpet": [
           {
            "marker": {
             "colorbar": {
              "outlinewidth": 0,
              "ticks": ""
             }
            },
            "type": "scattercarpet"
           }
          ],
          "scattergeo": [
           {
            "marker": {
             "colorbar": {
              "outlinewidth": 0,
              "ticks": ""
             }
            },
            "type": "scattergeo"
           }
          ],
          "scattergl": [
           {
            "marker": {
             "colorbar": {
              "outlinewidth": 0,
              "ticks": ""
             }
            },
            "type": "scattergl"
           }
          ],
          "scattermapbox": [
           {
            "marker": {
             "colorbar": {
              "outlinewidth": 0,
              "ticks": ""
             }
            },
            "type": "scattermapbox"
           }
          ],
          "scatterpolar": [
           {
            "marker": {
             "colorbar": {
              "outlinewidth": 0,
              "ticks": ""
             }
            },
            "type": "scatterpolar"
           }
          ],
          "scatterpolargl": [
           {
            "marker": {
             "colorbar": {
              "outlinewidth": 0,
              "ticks": ""
             }
            },
            "type": "scatterpolargl"
           }
          ],
          "scatterternary": [
           {
            "marker": {
             "colorbar": {
              "outlinewidth": 0,
              "ticks": ""
             }
            },
            "type": "scatterternary"
           }
          ],
          "surface": [
           {
            "colorbar": {
             "outlinewidth": 0,
             "ticks": ""
            },
            "colorscale": [
             [
              0,
              "#0d0887"
             ],
             [
              0.1111111111111111,
              "#46039f"
             ],
             [
              0.2222222222222222,
              "#7201a8"
             ],
             [
              0.3333333333333333,
              "#9c179e"
             ],
             [
              0.4444444444444444,
              "#bd3786"
             ],
             [
              0.5555555555555556,
              "#d8576b"
             ],
             [
              0.6666666666666666,
              "#ed7953"
             ],
             [
              0.7777777777777778,
              "#fb9f3a"
             ],
             [
              0.8888888888888888,
              "#fdca26"
             ],
             [
              1,
              "#f0f921"
             ]
            ],
            "type": "surface"
           }
          ],
          "table": [
           {
            "cells": {
             "fill": {
              "color": "#EBF0F8"
             },
             "line": {
              "color": "white"
             }
            },
            "header": {
             "fill": {
              "color": "#C8D4E3"
             },
             "line": {
              "color": "white"
             }
            },
            "type": "table"
           }
          ]
         },
         "layout": {
          "annotationdefaults": {
           "arrowcolor": "#2a3f5f",
           "arrowhead": 0,
           "arrowwidth": 1
          },
          "autotypenumbers": "strict",
          "coloraxis": {
           "colorbar": {
            "outlinewidth": 0,
            "ticks": ""
           }
          },
          "colorscale": {
           "diverging": [
            [
             0,
             "#8e0152"
            ],
            [
             0.1,
             "#c51b7d"
            ],
            [
             0.2,
             "#de77ae"
            ],
            [
             0.3,
             "#f1b6da"
            ],
            [
             0.4,
             "#fde0ef"
            ],
            [
             0.5,
             "#f7f7f7"
            ],
            [
             0.6,
             "#e6f5d0"
            ],
            [
             0.7,
             "#b8e186"
            ],
            [
             0.8,
             "#7fbc41"
            ],
            [
             0.9,
             "#4d9221"
            ],
            [
             1,
             "#276419"
            ]
           ],
           "sequential": [
            [
             0,
             "#0d0887"
            ],
            [
             0.1111111111111111,
             "#46039f"
            ],
            [
             0.2222222222222222,
             "#7201a8"
            ],
            [
             0.3333333333333333,
             "#9c179e"
            ],
            [
             0.4444444444444444,
             "#bd3786"
            ],
            [
             0.5555555555555556,
             "#d8576b"
            ],
            [
             0.6666666666666666,
             "#ed7953"
            ],
            [
             0.7777777777777778,
             "#fb9f3a"
            ],
            [
             0.8888888888888888,
             "#fdca26"
            ],
            [
             1,
             "#f0f921"
            ]
           ],
           "sequentialminus": [
            [
             0,
             "#0d0887"
            ],
            [
             0.1111111111111111,
             "#46039f"
            ],
            [
             0.2222222222222222,
             "#7201a8"
            ],
            [
             0.3333333333333333,
             "#9c179e"
            ],
            [
             0.4444444444444444,
             "#bd3786"
            ],
            [
             0.5555555555555556,
             "#d8576b"
            ],
            [
             0.6666666666666666,
             "#ed7953"
            ],
            [
             0.7777777777777778,
             "#fb9f3a"
            ],
            [
             0.8888888888888888,
             "#fdca26"
            ],
            [
             1,
             "#f0f921"
            ]
           ]
          },
          "colorway": [
           "#636efa",
           "#EF553B",
           "#00cc96",
           "#ab63fa",
           "#FFA15A",
           "#19d3f3",
           "#FF6692",
           "#B6E880",
           "#FF97FF",
           "#FECB52"
          ],
          "font": {
           "color": "#2a3f5f"
          },
          "geo": {
           "bgcolor": "white",
           "lakecolor": "white",
           "landcolor": "#E5ECF6",
           "showlakes": true,
           "showland": true,
           "subunitcolor": "white"
          },
          "hoverlabel": {
           "align": "left"
          },
          "hovermode": "closest",
          "mapbox": {
           "style": "light"
          },
          "paper_bgcolor": "white",
          "plot_bgcolor": "#E5ECF6",
          "polar": {
           "angularaxis": {
            "gridcolor": "white",
            "linecolor": "white",
            "ticks": ""
           },
           "bgcolor": "#E5ECF6",
           "radialaxis": {
            "gridcolor": "white",
            "linecolor": "white",
            "ticks": ""
           }
          },
          "scene": {
           "xaxis": {
            "backgroundcolor": "#E5ECF6",
            "gridcolor": "white",
            "gridwidth": 2,
            "linecolor": "white",
            "showbackground": true,
            "ticks": "",
            "zerolinecolor": "white"
           },
           "yaxis": {
            "backgroundcolor": "#E5ECF6",
            "gridcolor": "white",
            "gridwidth": 2,
            "linecolor": "white",
            "showbackground": true,
            "ticks": "",
            "zerolinecolor": "white"
           },
           "zaxis": {
            "backgroundcolor": "#E5ECF6",
            "gridcolor": "white",
            "gridwidth": 2,
            "linecolor": "white",
            "showbackground": true,
            "ticks": "",
            "zerolinecolor": "white"
           }
          },
          "shapedefaults": {
           "line": {
            "color": "#2a3f5f"
           }
          },
          "ternary": {
           "aaxis": {
            "gridcolor": "white",
            "linecolor": "white",
            "ticks": ""
           },
           "baxis": {
            "gridcolor": "white",
            "linecolor": "white",
            "ticks": ""
           },
           "bgcolor": "#E5ECF6",
           "caxis": {
            "gridcolor": "white",
            "linecolor": "white",
            "ticks": ""
           }
          },
          "title": {
           "x": 0.05
          },
          "xaxis": {
           "automargin": true,
           "gridcolor": "white",
           "linecolor": "white",
           "ticks": "",
           "title": {
            "standoff": 15
           },
           "zerolinecolor": "white",
           "zerolinewidth": 2
          },
          "yaxis": {
           "automargin": true,
           "gridcolor": "white",
           "linecolor": "white",
           "ticks": "",
           "title": {
            "standoff": 15
           },
           "zerolinecolor": "white",
           "zerolinewidth": 2
          }
         }
        },
        "title": {
         "text": "Total Urban vs Rural Acres in Top 5 Counties"
        },
        "width": 1000,
        "xaxis": {
         "tickangle": 90,
         "title": {
          "text": "County"
         }
        },
        "yaxis": {
         "title": {
          "text": "Total Acres"
         }
        }
       }
      }
     },
     "metadata": {},
     "output_type": "display_data"
    }
   ],
   "source": [
    "import plotly.graph_objects as go\n",
    "import pandas as pd\n",
    "import numpy as np\n",
    "\n",
    "\n",
    "# Define the number of top counties you want to display\n",
    "top_n = 5  # Adjust this value as needed\n",
    "\n",
    "# Get the top n counties based on the total acres\n",
    "top_counties = aggregated_data.groupby('County')['Acres'].sum().nlargest(top_n).index\n",
    "\n",
    "# Aggregate data for urban and rural categories\n",
    "urban_rural_totals = aggregated_data.pivot_table(\n",
    "    index=\"County\", columns=\"Urban or Rural\", values=\"Acres\", aggfunc=\"sum\"\n",
    ").loc[top_counties].fillna(0)\n",
    "\n",
    "# Create the bar chart\n",
    "fig = go.Figure()\n",
    "\n",
    "# Add Urban bars\n",
    "fig.add_trace(go.Bar(\n",
    "    x=urban_rural_totals.index,\n",
    "    y=urban_rural_totals[\"Urban\"],\n",
    "    name=\"Urban\",\n",
    "    marker=dict(color=\"lightblue\"),\n",
    "    text=urban_rural_totals[\"Urban\"].round(0).astype(int),  # Round and convert to integer\n",
    "    textposition=\"outside\",  # Position labels outside the bars\n",
    "    hovertemplate=\"County: %{x}<br>Urban Acres: %{y:,}<extra></extra>\"\n",
    "))\n",
    "\n",
    "# Add Rural bars\n",
    "fig.add_trace(go.Bar(\n",
    "    x=urban_rural_totals.index,\n",
    "    y=urban_rural_totals[\"Rural\"],\n",
    "    name=\"Rural\",\n",
    "    marker=dict(color=\"lightgreen\"),\n",
    "    text=urban_rural_totals[\"Rural\"].round(0).astype(int),  # Round and convert to integer\n",
    "    textposition=\"outside\",  # Position labels outside the bars\n",
    "    hovertemplate=\"County: %{x}<br>Rural Acres: %{y:,}<extra></extra>\"\n",
    "))\n",
    "\n",
    "\n",
    "# Update layout for better aesthetics\n",
    "fig.update_layout(\n",
    "    title=f\"Total Urban vs Rural Acres in Top {top_n} Counties\",\n",
    "    xaxis_title=\"County\",\n",
    "    yaxis_title=\"Total Acres\",\n",
    "    barmode=\"group\",  # Grouped bar chart\n",
    "    xaxis=dict(tickangle=90),\n",
    "    legend_title=\"Urban or Rural\",\n",
    "    height=600,\n",
    "    width=1000\n",
    ")\n",
    "\n",
    "# Show the interactive plot\n",
    "fig.show()"
   ]
  },
  {
   "cell_type": "code",
   "execution_count": null,
   "metadata": {},
   "outputs": [
    {
     "data": {
      "text/plain": [
       "(Urban or Rural\n",
       " Urban    3631\n",
       " Rural    1766\n",
       " Name: count, dtype: int64,\n",
       " Series([], dtype: int64))"
      ]
     },
     "execution_count": 29,
     "metadata": {},
     "output_type": "execute_result"
    }
   ],
   "source": [
    "# Checking for unique values and any inconsistencies in the 'Urban or Rural' column\n",
    "urban_rural_values = solar_data_cleaned['Urban or Rural'].value_counts(dropna=False)\n",
    "\n",
    "# Checking for missing values across the dataset\n",
    "missing_values = solar_data_cleaned.isnull().sum()\n",
    "\n",
    "urban_rural_values, missing_values[missing_values > 0]\n"
   ]
  },
  {
   "cell_type": "markdown",
   "metadata": {},
   "source": [
    "### Observations and Insights on Distance to Substation by Urban/Rural Classification\n",
    "\n",
    "#### **Key Findings**\n",
    "1. **Overall Distribution**:\n",
    "   - Urban areas show a higher frequency of locations with shorter distances to substations, as evident by the steep peak near the lower end of the distance scale.\n",
    "   - Rural areas, while having lower frequencies overall, display a wider distribution with some sites located significantly farther from substations.\n",
    "\n",
    "2. **Voltage-Specific Observations**:\n",
    "   - **GTET 100 Max Voltage**: The urban areas dominate short-distance frequencies with a sharp decline as distance increases, whereas rural areas exhibit a gradual decline, reflecting more evenly distributed distances.\n",
    "   - **GTET 200 Max Voltage**: Similar trends are observed, with urban areas clustered closer to substations and rural areas spread over larger distances.\n",
    "   - **CAISO**: Urban areas remain concentrated near substations, but rural areas still extend farther away compared to urban counterparts, albeit with slightly reduced frequencies at extreme distances.\n",
    "\n",
    "3. **Implications for Infrastructure Planning**:\n",
    "   - **Urban Areas**:\n",
    "     - Proximity to substations suggests that urban infrastructure is optimized for minimal transmission loss and efficient power delivery.\n",
    "   - **Rural Areas**:\n",
    "     - Wider spread and greater distances highlight challenges in providing reliable and efficient power, likely requiring targeted investments in transmission networks or localized solutions like microgrids.\n",
    "\n",
    "4. **Comparative Analysis**:\n",
    "   - Across all scenarios, the disparity between urban and rural distances underscores the need for differentiated strategies to enhance energy access in rural regions.\n",
    "\n",
    "#### **Recommendations**:\n",
    "- **Infrastructure Investments**: Increase substation density or integrate decentralized energy systems in rural areas to improve efficiency and reliability.\n",
    "- **Policy Focus**: Support rural electrification programs to address equity in energy access.\n",
    "- **Further Analysis**: Investigate specific geographic or demographic factors influencing the observed distributions to better tailor solutions.\n",
    "\n",
    "This analysis highlights critical differences between urban and rural energy distribution, offering a foundation for targeted interventions and planning."
   ]
  },
  {
   "cell_type": "code",
   "execution_count": null,
   "metadata": {},
   "outputs": [
    {
     "data": {
      "image/png": "[encoded data removed]",
      "text/plain": [
       "<Figure size 1000x600 with 1 Axes>"
      ]
     },
     "metadata": {},
     "output_type": "display_data"
    },
    {
     "data": {
      "image/png": "[encoded data removed]",
      "text/plain": [
       "<Figure size 1000x600 with 1 Axes>"
      ]
     },
     "metadata": {},
     "output_type": "display_data"
    },
    {
     "data": {
      "image/png": "[encoded data removed]",
      "text/plain": [
       "<Figure size 1000x600 with 1 Axes>"
      ]
     },
     "metadata": {},
     "output_type": "display_data"
    }
   ],
   "source": [
    "import matplotlib.pyplot as plt\n",
    "\n",
    "# Replace 'data' with 'df' (the DataFrame loaded in your notebook)\n",
    "for column in [\n",
    "    \"Distance to Substation (Miles) GTET 100 Max Voltage\",\n",
    "    \"Distance to Substation (Miles) GTET 200 Max Voltage\",\n",
    "    \"Distance to Substation (Miles) CAISO\",\n",
    "]:\n",
    "    plt.figure(figsize=(10, 6))\n",
    "    \n",
    "    # Filter data for Urban and Rural\n",
    "    urban_data = solar_data_cleaned[solar_data_cleaned[\"Urban or Rural\"] == \"Urban\"][column]\n",
    "    rural_data = solar_data_cleaned[solar_data_cleaned[\"Urban or Rural\"] == \"Rural\"][column]\n",
    "    \n",
    "    # Plot proportional histograms\n",
    "    plt.hist(\n",
    "        urban_data, bins=30, alpha=0.6, label=\"Urban\", color=\"lightblue\",\n",
    "        weights=np.ones_like(urban_data) / len(urban_data)  # Normalize to proportions\n",
    "    )\n",
    "    plt.hist(\n",
    "        rural_data, bins=30, alpha=0.6, label=\"Rural\", color=\"lightgreen\",\n",
    "        weights=np.ones_like(rural_data) / len(rural_data)  # Normalize to proportions\n",
    "    )\n",
    "    \n",
    "    # Add title, labels, and legend\n",
    "    plt.title(f\"Proportional Distribution of {column} by Urban/Rural Classification\", fontsize=14)\n",
    "    plt.xlabel(column, fontsize=12)\n",
    "    plt.ylabel(\"Proportion\", fontsize=12)\n",
    "    plt.legend(title=\"Category\")\n",
    "    plt.grid(axis=\"y\", linestyle=\"--\", alpha=0.7)\n",
    "    \n",
    "    # Show plot\n",
    "    plt.tight_layout()\n",
    "    plt.show()\n"
   ]
  },
  {
   "cell_type": "markdown",
   "metadata": {},
   "source": [
    "### Distribution of Solar Installation Types by Urban/Rural Classification: Key Insights\n",
    "\n",
    "#### **Overview of the Chart**\n",
    "This grouped bar chart illustrates the distribution of solar installation types (Ground, Parking, and Rooftop) across urban and rural areas. The heights of the bars represent the frequency of installations for each type in each area.\n",
    "\n",
    "---\n",
    "\n",
    "#### **Key Observations**\n",
    "1. **Dominance of Rooftop Installations in Urban Areas**:\n",
    "   - Urban regions show a significantly higher count of **rooftop installations**, reflecting the limited availability of open land and the prevalence of building-integrated solar solutions.\n",
    "\n",
    "2. **Ground Installations Leading in Rural Areas**:\n",
    "   - Rural areas are dominated by **ground-mounted installations**, leveraging the abundance of open land for large-scale solar farms or stand-alone systems.\n",
    "\n",
    "3. **Parking Installations**:\n",
    "   - Urban areas have a noticeable count of **parking installations**, likely aligned with urban development projects like solar carports in commercial spaces.\n",
    "   - Rural regions show minimal use of parking installations, consistent with their lower density of parking infrastructure.\n",
    "\n",
    "---\n",
    "\n",
    "#### **Insights for Planning**\n",
    "1. **Urban Planning**:\n",
    "   - The heavy reliance on rooftop installations suggests a need for incentives to further optimize urban spaces, such as utilizing parking spaces or implementing vertical solar designs.\n",
    "\n",
    "2. **Rural Development**:\n",
    "   - The prevalence of ground installations underscores the potential for expanding large-scale solar farms in rural areas. This could be further supported by targeted subsidies or infrastructure development.\n",
    "\n",
    "3. **Opportunities for Hybrid Systems**:\n",
    "   - Urban areas could explore hybrid systems combining rooftop and parking solar setups, especially in high-demand areas like business districts.\n",
    "   - Rural areas could integrate ground installations with storage or microgrid solutions to enhance reliability.\n",
    "\n",
    "---\n",
    "\n",
    "The distribution reflects the natural advantages and constraints of urban and rural settings. Tailored policies and infrastructure investments can maximize solar energy generation while addressing the unique needs of each region. This data provides a foundation for strategic solar energy expansion."
   ]
  },
  {
   "cell_type": "code",
   "execution_count": null,
   "metadata": {},
   "outputs": [
    {
     "data": {
      "image/png": "[encoded data removed]",
      "text/plain": [
       "<Figure size 1000x600 with 1 Axes>"
      ]
     },
     "metadata": {},
     "output_type": "display_data"
    }
   ],
   "source": [
    "import matplotlib.pyplot as plt\n",
    "\n",
    "# Group data by Urban/Rural and Install Type to calculate counts\n",
    "install_type_counts = solar_data_cleaned.groupby([\"Urban or Rural\", \"Install Type\"]).size().unstack()\n",
    "\n",
    "# Plotting the grouped bar chart\n",
    "install_type_counts.plot(\n",
    "    kind=\"bar\",\n",
    "    figsize=(10, 6),\n",
    "    stacked=False,  # Set to True for a stacked bar chart\n",
    "    color=[\"lightblue\", \"lightgreen\",\"lightcoral\"]\n",
    ")\n",
    "\n",
    "# Adding titles and labels\n",
    "plt.title(\"Distribution of Solar Installation Types by Urban/Rural Classification\", fontsize=14)\n",
    "plt.xlabel(\"Urban or Rural\", fontsize=12)\n",
    "plt.ylabel(\"Count of Installations\", fontsize=12)\n",
    "plt.legend(title=\"Install Type\")\n",
    "plt.xticks(rotation=0)\n",
    "plt.grid(axis=\"y\", linestyle=\"--\", alpha=0.7)\n",
    "\n",
    "# Show the plot\n",
    "plt.tight_layout()\n",
    "plt.show()\n"
   ]
  },
  {
   "cell_type": "code",
   "execution_count": null,
   "metadata": {},
   "outputs": [],
   "source": []
  }
 ],
 "metadata": {
  "kernelspec": {
   "display_name": "base",
   "language": "python",
   "name": "python3"
  },
  "language_info": {
   "codemirror_mode": {
    "name": "ipython",
    "version": 3
   },
   "file_extension": ".py",
   "mimetype": "text/x-python",
   "name": "python",
   "nbconvert_exporter": "python",
   "pygments_lexer": "ipython3",
   "version": "3.11.5"
  }
 },
 "nbformat": 4,
 "nbformat_minor": 2
}
