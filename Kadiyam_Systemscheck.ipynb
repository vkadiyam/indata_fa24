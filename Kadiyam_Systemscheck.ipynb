{
 "cells": [
  {
   "cell_type": "markdown",
   "id": "95666175-38bb-40a9-adb1-a67569e12506",
   "metadata": {},
   "source": [
    "# System Check\n",
    "## Vineeth Kadiyam\n",
    "### 08/21/2024\n",
    "**bold statement**\n",
    "\n",
    "*italic Statement* "
   ]
  },
  {
   "cell_type": "markdown",
   "id": "68ff3a92-59c5-4e6d-aa0d-c4bad23cdbea",
   "metadata": {},
   "source": [
    "### **Objectives of this *class*:**\n",
    "\n",
    "1. Learn how to employ modern interactive data tools to improve user engagement and data display.\n",
    "2. Develop the ability to create and apply *interactive dashboards* and data visualizations that clearly convey complex findings.\n",
    "3. Ensure the data interfaces are *user-friendly* to enable efficient data analysis.\n",
    " \n"
   ]
  },
  {
   "cell_type": "markdown",
   "id": "0fa10f8b-8df6-4578-a593-5c8b58591e91",
   "metadata": {},
   "source": [
    "![](image.png)"
   ]
  },
  {
   "cell_type": "markdown",
   "id": "db1840d2-653f-43e7-abf5-ee01eaf41a99",
   "metadata": {},
   "source": [
    "###  *Integer* Variable Assignment"
   ]
  },
  {
   "cell_type": "code",
   "execution_count": 8,
   "id": "564509de-4bfe-4903-80c8-c908f24b15bd",
   "metadata": {},
   "outputs": [
    {
     "name": "stdout",
     "output_type": "stream",
     "text": [
      "10\n"
     ]
    }
   ],
   "source": [
    "num = 10\n",
    "print(num)"
   ]
  },
  {
   "cell_type": "markdown",
   "id": "9cd6ebee-bd7f-4363-8dda-29ad6c28c1dc",
   "metadata": {},
   "source": [
    "### Using *for loop* print the each character in a given string with length "
   ]
  },
  {
   "cell_type": "code",
   "execution_count": 2,
   "id": "bd769b8a-c282-4c91-baa3-41925b811a00",
   "metadata": {},
   "outputs": [
    {
     "name": "stdout",
     "output_type": "stream",
     "text": [
      "['V', 'i', 'n', 'e', 'e', 't', 'h', ' ', 'K', 'a', 'd', 'i', 'y', 'a', 'm']\n"
     ]
    }
   ],
   "source": [
    "a = \"Vineeth Kadiyam\"\n",
    "char_list =[]\n",
    "for i in range(len(a)):\n",
    "    char_list+= a[i]\n",
    "print(char_list)"
   ]
  },
  {
   "cell_type": "markdown",
   "id": "6766bb2b-1cde-401a-9aa5-24bb72fa0685",
   "metadata": {},
   "source": [
    "###  function with  *return* statement and *print* statement"
   ]
  },
  {
   "cell_type": "code",
   "execution_count": 3,
   "id": "ceb9b077-2a5c-473d-b3ed-5f261d7411c2",
   "metadata": {},
   "outputs": [],
   "source": [
    "def multi_func(x,y):\n",
    "    z=y*x\n",
    "    print(z)"
   ]
  },
  {
   "cell_type": "code",
   "execution_count": 4,
   "id": "ec0da775-9ae8-411a-a130-597667353610",
   "metadata": {},
   "outputs": [
    {
     "name": "stdout",
     "output_type": "stream",
     "text": [
      "6\n"
     ]
    }
   ],
   "source": [
    "multi_func(2,3)"
   ]
  },
  {
   "cell_type": "code",
   "execution_count": 5,
   "id": "b34ccd1d-aa4a-4349-b37d-f293bb1e30bb",
   "metadata": {},
   "outputs": [],
   "source": [
    "def add_func(x):\n",
    "    final_add = x + 5\n",
    "    return final_add"
   ]
  },
  {
   "cell_type": "code",
   "execution_count": 6,
   "id": "99429f4c-f203-47fa-9da9-87bcba388af7",
   "metadata": {},
   "outputs": [
    {
     "data": {
      "text/plain": [
       "11"
      ]
     },
     "execution_count": 6,
     "metadata": {},
     "output_type": "execute_result"
    }
   ],
   "source": [
    "result = add_func(6)\n",
    "result"
   ]
  },
  {
   "cell_type": "code",
   "execution_count": null,
   "id": "446d9c30-bf5a-4872-99f6-7f12ef714b60",
   "metadata": {},
   "outputs": [],
   "source": []
  }
 ],
 "metadata": {
  "kernelspec": {
   "display_name": "Python 3 (ipykernel)",
   "language": "python",
   "name": "python3"
  },
  "language_info": {
   "codemirror_mode": {
    "name": "ipython",
    "version": 3
   },
   "file_extension": ".py",
   "mimetype": "text/x-python",
   "name": "python",
   "nbconvert_exporter": "python",
   "pygments_lexer": "ipython3",
   "version": "3.12.4"
  }
 },
 "nbformat": 4,
 "nbformat_minor": 5
}
