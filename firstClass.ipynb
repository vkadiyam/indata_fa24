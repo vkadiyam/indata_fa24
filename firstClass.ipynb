{
 "cells": [
  {
   "cell_type": "markdown",
   "id": "95666175-38bb-40a9-adb1-a67569e12506",
   "metadata": {},
   "source": [
    "# System Check\n",
    "## Vineeth Kadiyam\n",
    "## 08/20/2024"
   ]
  },
  {
   "cell_type": "code",
   "execution_count": 1,
   "id": "9df3fd93-2ed8-4b86-bb87-336e9be2664b",
   "metadata": {},
   "outputs": [],
   "source": [
    "x=3"
   ]
  },
  {
   "cell_type": "code",
   "execution_count": 2,
   "id": "0a93cceb-beca-4093-b587-05c9f32f3adb",
   "metadata": {},
   "outputs": [
    {
     "data": {
      "text/plain": [
       "3"
      ]
     },
     "execution_count": 2,
     "metadata": {},
     "output_type": "execute_result"
    }
   ],
   "source": [
    "x"
   ]
  },
  {
   "cell_type": "code",
   "execution_count": 3,
   "id": "a0f4d04d-4938-40fe-b485-47c3c42b5c74",
   "metadata": {},
   "outputs": [
    {
     "data": {
      "text/plain": [
       "[2, 3, 4, 5]"
      ]
     },
     "execution_count": 3,
     "metadata": {},
     "output_type": "execute_result"
    }
   ],
   "source": [
    "my_list = [2,3,4,5]\n",
    "my_list"
   ]
  },
  {
   "cell_type": "code",
   "execution_count": 4,
   "id": "2e6a9461-cfce-42dd-a0f8-217ef481e322",
   "metadata": {},
   "outputs": [
    {
     "data": {
      "text/plain": [
       "2"
      ]
     },
     "execution_count": 4,
     "metadata": {},
     "output_type": "execute_result"
    }
   ],
   "source": [
    "my_list[0]"
   ]
  },
  {
   "cell_type": "code",
   "execution_count": 5,
   "id": "0ff56645-6f66-4d57-b290-d699ad21935d",
   "metadata": {},
   "outputs": [],
   "source": [
    "my_list = ['now','see','this']\n"
   ]
  },
  {
   "cell_type": "code",
   "execution_count": 6,
   "id": "83e20e4d-8b6e-4ee4-90cc-7a863b01ae86",
   "metadata": {},
   "outputs": [
    {
     "data": {
      "text/plain": [
       "'now'"
      ]
     },
     "execution_count": 6,
     "metadata": {},
     "output_type": "execute_result"
    }
   ],
   "source": [
    "my_list[0]\n"
   ]
  },
  {
   "cell_type": "code",
   "execution_count": 7,
   "id": "564509de-4bfe-4903-80c8-c908f24b15bd",
   "metadata": {},
   "outputs": [],
   "source": [
    "my_name = \"Vineeth\""
   ]
  },
  {
   "cell_type": "code",
   "execution_count": 8,
   "id": "ceb9b077-2a5c-473d-b3ed-5f261d7411c2",
   "metadata": {},
   "outputs": [],
   "source": [
    "def display_name(x):\n",
    "    print(x)"
   ]
  },
  {
   "cell_type": "code",
   "execution_count": 9,
   "id": "ec0da775-9ae8-411a-a130-597667353610",
   "metadata": {},
   "outputs": [
    {
     "name": "stdout",
     "output_type": "stream",
     "text": [
      "Vineeth\n"
     ]
    }
   ],
   "source": [
    "display_name(my_name)"
   ]
  },
  {
   "cell_type": "code",
   "execution_count": 10,
   "id": "b34ccd1d-aa4a-4349-b37d-f293bb1e30bb",
   "metadata": {},
   "outputs": [],
   "source": [
    "def change_name(x):\n",
    "    new_name = x + 'new'\n",
    "    return new_name"
   ]
  },
  {
   "cell_type": "code",
   "execution_count": 11,
   "id": "99429f4c-f203-47fa-9da9-87bcba388af7",
   "metadata": {},
   "outputs": [
    {
     "data": {
      "text/plain": [
       "'Vineethnew'"
      ]
     },
     "execution_count": 11,
     "metadata": {},
     "output_type": "execute_result"
    }
   ],
   "source": [
    "changed_name = change_name(\"Vineeth\")\n",
    "changed_name"
   ]
  },
  {
   "cell_type": "code",
   "execution_count": null,
   "id": "f7b5bc35-b246-479d-9d47-a87beb069cac",
   "metadata": {},
   "outputs": [],
   "source": []
  }
 ],
 "metadata": {
  "kernelspec": {
   "display_name": "Python 3 (ipykernel)",
   "language": "python",
   "name": "python3"
  },
  "language_info": {
   "codemirror_mode": {
    "name": "ipython",
    "version": 3
   },
   "file_extension": ".py",
   "mimetype": "text/x-python",
   "name": "python",
   "nbconvert_exporter": "python",
   "pygments_lexer": "ipython3",
   "version": "3.12.4"
  }
 },
 "nbformat": 4,
 "nbformat_minor": 5
}
